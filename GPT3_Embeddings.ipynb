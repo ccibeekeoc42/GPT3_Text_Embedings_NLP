{
  "cells": [
    {
      "cell_type": "markdown",
      "metadata": {
        "id": "AJqu6Ok9-eej"
      },
      "source": [
        "#### Installing Needed Package"
      ]
    },
    {
      "cell_type": "code",
      "execution_count": 46,
      "metadata": {
        "id": "xpjt09mbhXxE"
      },
      "outputs": [],
      "source": [
        "#!pip install openai"
      ]
    },
    {
      "cell_type": "markdown",
      "metadata": {
        "id": "62L1aLuA-iyI"
      },
      "source": [
        "#### Importing Necessary Packages"
      ]
    },
    {
      "cell_type": "code",
      "execution_count": 47,
      "metadata": {
        "id": "OgSfAk8NhceN"
      },
      "outputs": [],
      "source": [
        "import pandas as pd\n",
        "import openai, numpy as np\n",
        "from openai.embeddings_utils import get_embedding, cosine_similarity\n",
        "from sklearn.metrics import classification_report, accuracy_score"
      ]
    },
    {
      "cell_type": "markdown",
      "metadata": {
        "id": "CcSvvrcuFEY5"
      },
      "source": [
        "#### Retrieving the API Key"
      ]
    },
    {
      "cell_type": "code",
      "execution_count": 48,
      "metadata": {
        "id": "sNCFL88mh6g0"
      },
      "outputs": [],
      "source": [
        "api_key = 'fake-api-key'\n",
        "openai.api_key = api_key"
      ]
    },
    {
      "cell_type": "markdown",
      "metadata": {
        "id": "PsO8zzvmF39p"
      },
      "source": [
        "#### Quick side example on how EMbeddings work"
      ]
    },
    {
      "cell_type": "code",
      "execution_count": 49,
      "metadata": {
        "colab": {
          "base_uri": "https://localhost:8080/"
        },
        "id": "wGv6MQKll3jS",
        "outputId": "0bfbca9f-4ebe-4f59-95b0-9e446a906d44"
      },
      "outputs": [
        {
          "data": {
            "text/plain": [
              "0.8743983922527889"
            ]
          },
          "execution_count": 49,
          "metadata": {},
          "output_type": "execute_result"
        }
      ],
      "source": [
        "resp = openai.Embedding.create(\n",
        "    input=[\"eating food\", \"I am hungry\", \"I am traveling\", \"exploring new places\"],\n",
        "    engine=\"text-similarity-davinci-001\" \n",
        ")\n",
        "\n",
        "embedding_a = resp['data'][0]['embedding']\n",
        "embedding_b = resp['data'][1]['embedding']\n",
        "embedding_c = resp['data'][2]['embedding']\n",
        "embedding_d = resp['data'][3]['embedding']\n",
        "\n",
        "np.dot(embedding_a, embedding_b) # both vectors are related so dot prod is close to 1"
      ]
    },
    {
      "cell_type": "markdown",
      "metadata": {
        "id": "D5TeqQXa3Kor"
      },
      "source": [
        "#### Loading Dataset that contains Embeddings"
      ]
    },
    {
      "cell_type": "code",
      "execution_count": 50,
      "metadata": {
        "id": "cxWSGcqu2CAH"
      },
      "outputs": [],
      "source": [
        "data_path = \"https://cdn.openai.com/API/examples/data/fine_food_reviews_with_embeddings_1k.csv\"\n",
        "df = pd.read_csv(data_path)\n",
        "# Changing from str to Array\n",
        "df[\"babbage_similarity\"] = df[\"babbage_similarity\"].apply(eval).apply(np.array)\n",
        "df[\"babbage_search\"] = df[\"babbage_search\"].apply(eval).apply(np.array)"
      ]
    },
    {
      "cell_type": "markdown",
      "metadata": {
        "id": "HLBScMxJ4_NL"
      },
      "source": [
        "#### Implementing Semantic Search"
      ]
    },
    {
      "cell_type": "code",
      "execution_count": 51,
      "metadata": {
        "id": "WG3O7Nw64rMP"
      },
      "outputs": [],
      "source": [
        "def search_reviews(df, search_query, n=3):\n",
        "  embedding = get_embedding(\n",
        "      search_query,\n",
        "      engine=\"text-search-babbage-query-001\"\n",
        "  )\n",
        "  df['similarities'] = df.babbage_search.apply(lambda x: cosine_similarity(x, embedding))\n",
        "  top_n = df.sort_values(\"similarities\", ascending=False).head(n)\n",
        "  return top_n"
      ]
    },
    {
      "cell_type": "code",
      "execution_count": 52,
      "metadata": {
        "colab": {
          "base_uri": "https://localhost:8080/"
        },
        "id": "Bnddilu_CDX3",
        "outputId": "dfb94d53-b18f-4827-d570-cf75ce40862a"
      },
      "outputs": [
        {
          "data": {
            "text/plain": [
              "['Title: I love this stuff; Content: Hard to find in the grocery. I buy it by the case online. One box makes four lunches with some blackened chicken for protein. There is something about the sweet pineapple and curry that makes this rice mix delicious.',\n",
              " 'Title: Whole Grain Food for great Health Benefit; Content: I love the taste and ease of cooking this rice.  The reason for making the purchase was because of the fact that is is a whole grain food item with a great deal of health benefits.  Made the puchase for a diabetic because it is a low glycemic food item.<br /><br />I must say that everyone who I have shared the Black Rice with enjoyed it the most when it was cooked in a broth.<br /><br />I like the texture and taste with or without broth.  I must say that the health benefits of the rice is what I was seeking and have found in this rice.  Worth every penny that I spent on it.',\n",
              " 'Title: It\\'s FANTASTIC! Mixes with Many kinds of Soups, etc. Yes.; Content: I just love it, and I am Not a major Indian cooking fan--just enough. Really, it mixes with anything you are doing like <a href=\"http://www.amazon.com/gp/product/B000FIXT2I\">Steamed Brown Rice Bowl, Organic, Microwaveable, 7.4-Ounce Bowls (Pack of 12)</a> (I use these for convenience, and then I don\\'t eat the whole pot of rice). In many kinds of soups, etc. Beef it up with some <a href=\"http://www.amazon.com/gp/product/B001FA1KLW\">Amore Tomato Paste, 4.5-Ounce Tubes (Pack of 12)</a>, which is so, so convenient. Sweeten to taste if you prefer. Here\\'s the best artificial sweetener on Amazon <a href=\"http://www.amazon.com/gp/product/B0019LTH3U\">NuNaturals Nustevia Alcohol Free Stevia Glass Bottle Liquid, 2-Ounce</a>. (Stop using Splenda which contains three Chlorine moities. It\\'s essentially bleach, folks.) Enjoy, lentils are so healthy, and this way they really have flavor!<br />FYI: This costs $3-5/PER PACK at our local stores when you can find it. It is Not overpriced, as someone here said.']"
            ]
          },
          "execution_count": 52,
          "metadata": {},
          "output_type": "execute_result"
        }
      ],
      "source": [
        "# embeding has to be created in real time for each search\n",
        "res = search_reviews(df, \"sweet rice\", n=3)\n",
        "res['combined'].to_list()"
      ]
    },
    {
      "cell_type": "markdown",
      "metadata": {
        "id": "khqpFCIBGN-A"
      },
      "source": [
        "#### Splitting dataset into Training and Testing"
      ]
    },
    {
      "cell_type": "code",
      "execution_count": 53,
      "metadata": {
        "id": "Cd3VJ5OFGTf0"
      },
      "outputs": [],
      "source": [
        "from sklearn.model_selection import train_test_split\n",
        "\n",
        "X, y = list(df.babbage_similarity.values), df.Score\n",
        "X_train, X_test, y_train, y_test = train_test_split(X, y, test_size=0.2, random_state=42)"
      ]
    },
    {
      "cell_type": "markdown",
      "metadata": {
        "id": "S6P5LOyaGCtQ"
      },
      "source": [
        "#### Implementing Classification by Logistic Regression"
      ]
    },
    {
      "cell_type": "code",
      "execution_count": 54,
      "metadata": {
        "colab": {
          "base_uri": "https://localhost:8080/"
        },
        "id": "kh4tCe9OGCZW",
        "outputId": "ea8f6f70-9fa0-4da2-b992-5d2ede3a3876"
      },
      "outputs": [
        {
          "name": "stdout",
          "output_type": "stream",
          "text": [
            "Accuracy is: 0.755\n",
            "              precision    recall  f1-score   support\n",
            "\n",
            "           1       0.72      0.45      0.55        29\n",
            "           2       0.00      0.00      0.00         0\n",
            "           3       0.12      1.00      0.22         1\n",
            "           4       0.31      0.50      0.38        16\n",
            "           5       0.98      0.84      0.91       154\n",
            "\n",
            "    accuracy                           0.76       200\n",
            "   macro avg       0.43      0.56      0.41       200\n",
            "weighted avg       0.89      0.76      0.81       200\n",
            "\n"
          ]
        },
        {
          "name": "stderr",
          "output_type": "stream",
          "text": [
            "/usr/local/lib/python3.7/dist-packages/sklearn/metrics/_classification.py:1318: UndefinedMetricWarning: Recall and F-score are ill-defined and being set to 0.0 in labels with no true samples. Use `zero_division` parameter to control this behavior.\n",
            "  _warn_prf(average, modifier, msg_start, len(result))\n",
            "/usr/local/lib/python3.7/dist-packages/sklearn/metrics/_classification.py:1318: UndefinedMetricWarning: Recall and F-score are ill-defined and being set to 0.0 in labels with no true samples. Use `zero_division` parameter to control this behavior.\n",
            "  _warn_prf(average, modifier, msg_start, len(result))\n",
            "/usr/local/lib/python3.7/dist-packages/sklearn/metrics/_classification.py:1318: UndefinedMetricWarning: Recall and F-score are ill-defined and being set to 0.0 in labels with no true samples. Use `zero_division` parameter to control this behavior.\n",
            "  _warn_prf(average, modifier, msg_start, len(result))\n"
          ]
        }
      ],
      "source": [
        "from sklearn.linear_model import LogisticRegression\n",
        "lr = LogisticRegression()\n",
        "lr.fit(X_train, y_train)\n",
        "y_pred = lr.predict(X_test)\n",
        "print(f\"Accuracy is: {accuracy_score(y_pred, y_test)}\")\n",
        "print(f\"{classification_report(y_pred, y_test)}\")"
      ]
    },
    {
      "cell_type": "markdown",
      "metadata": {
        "id": "JHR-28kTRCls"
      },
      "source": [
        "#### Implementing Classification by K-Nearest Neighbors Method"
      ]
    },
    {
      "cell_type": "code",
      "execution_count": 55,
      "metadata": {
        "colab": {
          "base_uri": "https://localhost:8080/"
        },
        "id": "63kqAo2ERK3C",
        "outputId": "e6c0d66f-66fe-4316-86f4-eabe455550af"
      },
      "outputs": [
        {
          "name": "stdout",
          "output_type": "stream",
          "text": [
            "Accuracy is: 0.73\n",
            "              precision    recall  f1-score   support\n",
            "\n",
            "           1       0.89      0.48      0.63        33\n",
            "           2       0.12      0.40      0.18         5\n",
            "           3       0.12      0.08      0.10        13\n",
            "           4       0.19      0.45      0.27        11\n",
            "           5       0.93      0.88      0.91       138\n",
            "\n",
            "    accuracy                           0.73       200\n",
            "   macro avg       0.45      0.46      0.42       200\n",
            "weighted avg       0.81      0.73      0.76       200\n",
            "\n"
          ]
        }
      ],
      "source": [
        "from sklearn.neighbors import KNeighborsClassifier\n",
        "knn = KNeighborsClassifier()\n",
        "knn.fit(X_train, y_train)\n",
        "y_pred = knn.predict(X_test)\n",
        "print(f\"Accuracy is: {accuracy_score(y_pred, y_test)}\")\n",
        "print(f\"{classification_report(y_pred, y_test)}\")"
      ]
    },
    {
      "cell_type": "markdown",
      "metadata": {
        "id": "fUm47RS2Ka8L"
      },
      "source": [
        "Implementing Clustering by KMeans"
      ]
    },
    {
      "cell_type": "code",
      "execution_count": 56,
      "metadata": {
        "colab": {
          "base_uri": "https://localhost:8080/"
        },
        "id": "XYECJ5aKKajY",
        "outputId": "b677318d-550f-4925-8eca-8c49f6005b3c"
      },
      "outputs": [
        {
          "name": "stdout",
          "output_type": "stream",
          "text": [
            "[0 0 0 0 0 2 2 0 1 1 1 1 1 1 1]\n",
            "{0: ['A man is eating food.', 'A man is eating a piece of bread.', 'Horse is eating grass', 'A man is eating pasta.', 'A woman is eating Biryani.', 'A man is riding a horse.'], 2: ['The girl is carrying a baby.', 'The baby is carried by the woman.'], 1: ['A man is riding a white horse on an enclosed ground.', 'A monkey is playing drums.', 'Someone in a gorilla suit is playing a set of drums.', 'A cheetah is running behind its prey.', 'A cheetah chases its prey across a field.', 'The cheetah is chasing a man who is riding a horse.', 'man and woman with their baby are watching a cheetah in the zoo.']}\n"
          ]
        }
      ],
      "source": [
        "from sklearn.cluster import KMeans\n",
        "dataset = ['A man is eating food.',\n",
        "          'A man is eating a piece of bread.',\n",
        "          'Horse is eating grass',\n",
        "          'A man is eating pasta.',\n",
        "          'A woman is eating Biryani.',\n",
        "          'The girl is carrying a baby.',\n",
        "          'The baby is carried by the woman.',\n",
        "          'A man is riding a horse.',\n",
        "          'A man is riding a white horse on an enclosed ground.',\n",
        "          'A monkey is playing drums.',\n",
        "          'Someone in a gorilla suit is playing a set of drums.',\n",
        "          'A cheetah is running behind its prey.',\n",
        "          'A cheetah chases its prey across a field.',\n",
        "          'The cheetah is chasing a man who is riding a horse.',\n",
        "          'man and woman with their baby are watching a cheetah in the zoo.'\n",
        "]\n",
        "\n",
        "# Embedding dataset for similarity\n",
        "resp = openai.Embedding.create(\n",
        "    input=dataset,\n",
        "    engine=\"text-similarity-davinci-001\" \n",
        ")\n",
        "\n",
        "resp_embeddings = [d['embedding'] for d in resp['data']] \n",
        "# Normalizing\n",
        "resp_embeddings = resp_embeddings / np.linalg.norm(resp_embeddings, axis=1, keepdims=True)\n",
        "\n",
        "km_cl = KMeans(n_clusters=3)\n",
        "km_cl.fit(resp_embeddings)\n",
        "clusters = km_cl.labels_\n",
        "print(clusters)\n",
        "\n",
        "# Seperating dataset into clusters\n",
        "clustered_dataset = {}\n",
        "for sentence_id, cluster_id in enumerate(clusters):\n",
        "  if cluster_id not in clustered_dataset:\n",
        "    clustered_dataset[cluster_id] = []\n",
        "  clustered_dataset[cluster_id].append(dataset[sentence_id])\n",
        "\n",
        "print(clustered_dataset)"
      ]
    },
    {
      "cell_type": "markdown",
      "metadata": {
        "id": "afCmbb97Bp0O"
      },
      "source": [
        "###### credits: https://www.youtube.com/watch?v=ld3YbhoJz9w&list=PLAMHV77MSKJ4QOIS86OiXMtb3-4TUUzho&index=6"
      ]
    }
  ],
  "metadata": {
    "colab": {
      "collapsed_sections": [],
      "provenance": []
    },
    "kernelspec": {
      "display_name": "Python 3",
      "name": "python3"
    },
    "language_info": {
      "name": "python"
    }
  },
  "nbformat": 4,
  "nbformat_minor": 0
}
